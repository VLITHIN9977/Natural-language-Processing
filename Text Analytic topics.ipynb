{
 "cells": [
  {
   "cell_type": "markdown",
   "metadata": {},
   "source": [
    "- Multinominal Naive Bayes Theory\n",
    "- TF-IDF Transformation\n",
    "- Rule based Sentiment Analysis (VADER)\n",
    "- Word2vec implementation (demo only)"
   ]
  },
  {
   "cell_type": "code",
   "execution_count": 1,
   "metadata": {},
   "outputs": [],
   "source": [
    "import pandas as pd\n",
    "import numpy as np\n",
    "import nltk"
   ]
  },
  {
   "cell_type": "code",
   "execution_count": 2,
   "metadata": {},
   "outputs": [
    {
     "data": {
      "text/html": [
       "<div>\n",
       "<style scoped>\n",
       "    .dataframe tbody tr th:only-of-type {\n",
       "        vertical-align: middle;\n",
       "    }\n",
       "\n",
       "    .dataframe tbody tr th {\n",
       "        vertical-align: top;\n",
       "    }\n",
       "\n",
       "    .dataframe thead th {\n",
       "        text-align: right;\n",
       "    }\n",
       "</style>\n",
       "<table border=\"1\" class=\"dataframe\">\n",
       "  <thead>\n",
       "    <tr style=\"text-align: right;\">\n",
       "      <th></th>\n",
       "      <th>review</th>\n",
       "      <th>sentiment</th>\n",
       "    </tr>\n",
       "  </thead>\n",
       "  <tbody>\n",
       "    <tr>\n",
       "      <th>0</th>\n",
       "      <td>A very, very, very slow-moving, aimless movie ...</td>\n",
       "      <td>0</td>\n",
       "    </tr>\n",
       "    <tr>\n",
       "      <th>1</th>\n",
       "      <td>Not sure who was more lost - the flat characte...</td>\n",
       "      <td>0</td>\n",
       "    </tr>\n",
       "    <tr>\n",
       "      <th>2</th>\n",
       "      <td>Attempting artiness with black &amp; white and cle...</td>\n",
       "      <td>0</td>\n",
       "    </tr>\n",
       "    <tr>\n",
       "      <th>3</th>\n",
       "      <td>Very little music or anything to speak of.</td>\n",
       "      <td>0</td>\n",
       "    </tr>\n",
       "    <tr>\n",
       "      <th>4</th>\n",
       "      <td>The best scene in the movie was when Gerardo i...</td>\n",
       "      <td>1</td>\n",
       "    </tr>\n",
       "  </tbody>\n",
       "</table>\n",
       "</div>"
      ],
      "text/plain": [
       "                                              review  sentiment\n",
       "0  A very, very, very slow-moving, aimless movie ...          0\n",
       "1  Not sure who was more lost - the flat characte...          0\n",
       "2  Attempting artiness with black & white and cle...          0\n",
       "3       Very little music or anything to speak of.            0\n",
       "4  The best scene in the movie was when Gerardo i...          1"
      ]
     },
     "execution_count": 2,
     "metadata": {},
     "output_type": "execute_result"
    }
   ],
   "source": [
    "url = 'https://bit.ly/2S2yXEd'\n",
    "imdb = pd.read_csv(url)\n",
    "imdb.head()"
   ]
  },
  {
   "cell_type": "code",
   "execution_count": 3,
   "metadata": {},
   "outputs": [
    {
     "data": {
      "text/plain": [
       "1    51.604278\n",
       "0    48.395722\n",
       "Name: sentiment, dtype: float64"
      ]
     },
     "execution_count": 3,
     "metadata": {},
     "output_type": "execute_result"
    }
   ],
   "source": [
    "imdb['sentiment'].value_counts() / imdb.shape[0] * 100"
   ]
  },
  {
   "cell_type": "code",
   "execution_count": 12,
   "metadata": {},
   "outputs": [],
   "source": [
    "from sklearn.model_selection import train_test_split\n",
    "train, test = train_test_split(imdb, test_size=0.2, random_state=1)"
   ]
  },
  {
   "cell_type": "code",
   "execution_count": 6,
   "metadata": {},
   "outputs": [
    {
     "data": {
      "text/plain": [
       "487    mani continu error one user comment differ car...\n",
       "652               im sorri realli cant recommend anyon  \n",
       "667    charact onedimension even good guy especi bad ...\n",
       "537                                           noth new  \n",
       "194    think robert ryan best film portray someon lik...\n",
       "Name: review, dtype: object"
      ]
     },
     "execution_count": 6,
     "metadata": {},
     "output_type": "execute_result"
    }
   ],
   "source": [
    "def clean_sentence(doc, stopwords, stemmer):\n",
    "    words = doc.split(' ')\n",
    "    words_clean = [stemmer.stem(word) for word in words if word not in stopwords]\n",
    "    return ' '.join(words_clean)\n",
    "    \n",
    "def clean_documents(docs_raw):\n",
    "    stopwords = nltk.corpus.stopwords.words('english')\n",
    "    stemmer = nltk.stem.PorterStemmer()\n",
    "    docs = docs_raw.str.lower().str.replace('[^a-z ]', '')\n",
    "    docs_clean = docs.apply(lambda doc: clean_sentence(doc, stopwords, stemmer))\n",
    "    return docs_clean\n",
    "train_docs_clean = clean_documents(train['review'])\n",
    "train_docs_clean.head()"
   ]
  },
  {
   "cell_type": "code",
   "execution_count": 29,
   "metadata": {},
   "outputs": [],
   "source": [
    "from sklearn.feature_extraction.text import CountVectorizer\n",
    "from sklearn.metrics import accuracy_score\n",
    "vectorizer = CountVectorizer(min_df=1).fit(train_docs_clean)\n",
    "dtm_train = vectorizer.transform(train_docs_clean)\n",
    "\n",
    "test_docs_clean = clean_documents(test['review'])\n",
    "dtm_test = vectorizer.transform(test_docs_clean)"
   ]
  },
  {
   "cell_type": "code",
   "execution_count": 35,
   "metadata": {},
   "outputs": [
    {
     "data": {
      "text/plain": [
       "one         2\n",
       "joe         2\n",
       "scene       2\n",
       "hair        1\n",
       "chang       1\n",
       "error       1\n",
       "configur    1\n",
       "mani        1\n",
       "continu     1\n",
       "car         1\n",
       "Name: 0, dtype: int64"
      ]
     },
     "execution_count": 35,
     "metadata": {},
     "output_type": "execute_result"
    }
   ],
   "source": [
    "df_dtm = pd.DataFrame(dtm_train.toarray(),columns=vectorizer.get_feature_names())\n",
    "df_dtm.iloc[0].sort_values(ascending=False).head(10)"
   ]
  },
  {
   "cell_type": "code",
   "execution_count": 17,
   "metadata": {},
   "outputs": [
    {
     "data": {
      "text/plain": [
       "0.7533333333333333"
      ]
     },
     "execution_count": 17,
     "metadata": {},
     "output_type": "execute_result"
    }
   ],
   "source": [
    "from sklearn.naive_bayes import MultinomialNB\n",
    "model_nb = MultinomialNB().fit(dtm_train, train['sentiment'])\n",
    "test_pred = model_nb.predict(dtm_test)\n",
    "accuracy_score(test['sentiment'], test_pred)"
   ]
  },
  {
   "cell_type": "markdown",
   "metadata": {},
   "source": [
    "# https://github.com/skathirmani/text-analytics"
   ]
  },
  {
   "cell_type": "markdown",
   "metadata": {},
   "source": [
    "## Term Frequency - Inverse Document Frequency"
   ]
  },
  {
   "cell_type": "code",
   "execution_count": 36,
   "metadata": {},
   "outputs": [],
   "source": [
    "from sklearn.feature_extraction.text import TfidfVectorizer\n",
    "tfidf_vectorizer = TfidfVectorizer().fit(train_docs_clean)\n",
    "dtm_train = tfidf_vectorizer.transform(train_docs_clean)\n",
    "dtm_test = tfidf_vectorizer.transform(test_docs_clean)"
   ]
  },
  {
   "cell_type": "code",
   "execution_count": 22,
   "metadata": {},
   "outputs": [],
   "source": [
    "# pd.DataFrame(dtm_train.toarray(), columns=tfidf_vectorizer.get_feature_names())"
   ]
  },
  {
   "cell_type": "code",
   "execution_count": 37,
   "metadata": {},
   "outputs": [
    {
     "data": {
      "text/plain": [
       "joe          0.443970\n",
       "scene        0.291439\n",
       "one          0.233445\n",
       "hair         0.221985\n",
       "user         0.221985\n",
       "facial       0.221985\n",
       "error        0.221985\n",
       "configur     0.221985\n",
       "glassesth    0.221985\n",
       "garag        0.221985\n",
       "Name: 0, dtype: float64"
      ]
     },
     "execution_count": 37,
     "metadata": {},
     "output_type": "execute_result"
    }
   ],
   "source": [
    "df_dtm = df_dtm = pd.DataFrame(dtm_train.toarray(),columns=vectorizer.get_feature_names())\n",
    "df_dtm.iloc[0].sort_values(ascending=False).head(10)"
   ]
  },
  {
   "cell_type": "code",
   "execution_count": 23,
   "metadata": {},
   "outputs": [
    {
     "data": {
      "text/plain": [
       "0.7866666666666666"
      ]
     },
     "execution_count": 23,
     "metadata": {},
     "output_type": "execute_result"
    }
   ],
   "source": [
    "model_nb = MultinomialNB().fit(dtm_train, train['sentiment'])\n",
    "test_pred = model_nb.predict(dtm_test)\n",
    "accuracy_score(test['sentiment'], test_pred)"
   ]
  },
  {
   "cell_type": "markdown",
   "metadata": {},
   "source": [
    "# Sentiment Analysis\n",
    "- Rule based sentiment analysis\n",
    "    - Pros: Can be used even if we do not have labels\n",
    "    - Cons\n",
    "        - Cannot be used for regional langauges\n",
    "        - Cannot understand sarcasm\n",
    "- Document classification\n",
    "    - Pros: Can be applied even for regional languages\n",
    "    - Cons: You need labelled data set to start with; Time consuming"
   ]
  },
  {
   "cell_type": "markdown",
   "metadata": {},
   "source": [
    "### VADER: Valence Aware Dictionary and sEntiment Reasoner"
   ]
  },
  {
   "cell_type": "code",
   "execution_count": 38,
   "metadata": {},
   "outputs": [],
   "source": [
    "from nltk.sentiment import SentimentIntensityAnalyzer\n",
    "calc_senti = SentimentIntensityAnalyzer()"
   ]
  },
  {
   "cell_type": "code",
   "execution_count": 43,
   "metadata": {},
   "outputs": [
    {
     "name": "stdout",
     "output_type": "stream",
     "text": [
      "{'neg': 0.0, 'neu': 0.192, 'pos': 0.808, 'compound': 0.6369}\n",
      "{'neg': 0.0, 'neu': 0.169, 'pos': 0.831, 'compound': 0.7125}\n",
      "{'neg': 0.0, 'neu': 0.112, 'pos': 0.888, 'compound': 0.8374}\n"
     ]
    }
   ],
   "source": [
    "print(calc_senti.polarity_scores('i love india'))\n",
    "print(calc_senti.polarity_scores('i LOVE india'))\n",
    "print(calc_senti.polarity_scores('i LOVE india :)'))"
   ]
  },
  {
   "cell_type": "code",
   "execution_count": 44,
   "metadata": {},
   "outputs": [
    {
     "name": "stdout",
     "output_type": "stream",
     "text": [
      "0.6369\n"
     ]
    }
   ],
   "source": [
    "print(calc_senti.polarity_scores('i love india')['compound'])"
   ]
  },
  {
   "cell_type": "code",
   "execution_count": 49,
   "metadata": {},
   "outputs": [
    {
     "data": {
      "text/plain": [
       "<matplotlib.axes._subplots.AxesSubplot at 0x1ea9d7dda90>"
      ]
     },
     "execution_count": 49,
     "metadata": {},
     "output_type": "execute_result"
    },
    {
     "data": {
      "image/png": "[encoded data removed]",
      "text/plain": [
       "<Figure size 432x288 with 1 Axes>"
      ]
     },
     "metadata": {},
     "output_type": "display_data"
    }
   ],
   "source": [
    "%matplotlib inline\n",
    "imdb['sentiment_compound'] = imdb['review'].apply(\n",
    "    lambda v: calc_senti.polarity_scores(v)['compound'])\n",
    "imdb['sentiment_compound'].plot.hist()"
   ]
  },
  {
   "cell_type": "code",
   "execution_count": 53,
   "metadata": {},
   "outputs": [
    {
     "data": {
      "text/html": [
       "<div>\n",
       "<style scoped>\n",
       "    .dataframe tbody tr th:only-of-type {\n",
       "        vertical-align: middle;\n",
       "    }\n",
       "\n",
       "    .dataframe tbody tr th {\n",
       "        vertical-align: top;\n",
       "    }\n",
       "\n",
       "    .dataframe thead th {\n",
       "        text-align: right;\n",
       "    }\n",
       "</style>\n",
       "<table border=\"1\" class=\"dataframe\">\n",
       "  <thead>\n",
       "    <tr style=\"text-align: right;\">\n",
       "      <th></th>\n",
       "      <th>sentiment</th>\n",
       "      <th>sentiment_compound</th>\n",
       "      <th>sentiment_vader</th>\n",
       "    </tr>\n",
       "  </thead>\n",
       "  <tbody>\n",
       "    <tr>\n",
       "      <th>0</th>\n",
       "      <td>0</td>\n",
       "      <td>-0.4215</td>\n",
       "      <td>0</td>\n",
       "    </tr>\n",
       "    <tr>\n",
       "      <th>1</th>\n",
       "      <td>0</td>\n",
       "      <td>-0.5507</td>\n",
       "      <td>0</td>\n",
       "    </tr>\n",
       "  </tbody>\n",
       "</table>\n",
       "</div>"
      ],
      "text/plain": [
       "   sentiment  sentiment_compound  sentiment_vader\n",
       "0          0             -0.4215                0\n",
       "1          0             -0.5507                0"
      ]
     },
     "execution_count": 53,
     "metadata": {},
     "output_type": "execute_result"
    }
   ],
   "source": [
    "def get_sentiment(compound):\n",
    "    # return 'Positive' if compound > 0 else 'Negative'\n",
    "    return 1 if compound > 0 else 0\n",
    "imdb['sentiment_vader'] = imdb['sentiment_compound'].apply(get_sentiment)\n",
    "imdb[['sentiment', 'sentiment_compound', 'sentiment_vader']].head(2)"
   ]
  },
  {
   "cell_type": "code",
   "execution_count": 54,
   "metadata": {},
   "outputs": [
    {
     "data": {
      "text/plain": [
       "0.7941176470588235"
      ]
     },
     "execution_count": 54,
     "metadata": {},
     "output_type": "execute_result"
    }
   ],
   "source": [
    "accuracy_score(imdb['sentiment'], imdb['sentiment_vader'])"
   ]
  },
  {
   "cell_type": "code",
   "execution_count": 65,
   "metadata": {},
   "outputs": [
    {
     "data": {
      "text/plain": [
       "{'neg': 0.552, 'neu': 0.448, 'pos': 0.0, 'compound': -0.5719}"
      ]
     },
     "execution_count": 65,
     "metadata": {},
     "output_type": "execute_result"
    }
   ],
   "source": [
    "calc_senti.polarity_scores('i hate cofee and tea')"
   ]
  },
  {
   "cell_type": "code",
   "execution_count": 67,
   "metadata": {},
   "outputs": [
    {
     "data": {
      "text/plain": [
       "0.44776119402985076"
      ]
     },
     "execution_count": 67,
     "metadata": {},
     "output_type": "execute_result"
    }
   ],
   "source": [
    "3.7/6.7\n",
    "3/6.7"
   ]
  },
  {
   "cell_type": "code",
   "execution_count": 64,
   "metadata": {},
   "outputs": [
    {
     "data": {
      "text/plain": [
       "0.20202020202020202"
      ]
     },
     "execution_count": 64,
     "metadata": {},
     "output_type": "execute_result"
    }
   ],
   "source": [
    "3.7/9.9\n",
    "4.2/9.9\n",
    "2/9.9"
   ]
  },
  {
   "cell_type": "code",
   "execution_count": 68,
   "metadata": {},
   "outputs": [
    {
     "data": {
      "text/plain": [
       "-0.5718850320700721"
      ]
     },
     "execution_count": 68,
     "metadata": {},
     "output_type": "execute_result"
    }
   ],
   "source": [
    "alpha = 15\n",
    "score = -2.7\n",
    "import math\n",
    "norm_score = score / math.sqrt((score * score) + alpha)\n",
    "norm_score"
   ]
  },
  {
   "cell_type": "code",
   "execution_count": 71,
   "metadata": {},
   "outputs": [],
   "source": [
    "hotstar_url ='https://bit.ly/2Y5OLte'\n",
    "hotstar = pd.read_csv(hotstar_url)\n",
    "#hotstar.head()\n",
    "# Text Column: Reviews\n",
    "# Target: Sentiment_Manual"
   ]
  },
  {
   "cell_type": "markdown",
   "metadata": {},
   "source": [
    "### Exercise"
   ]
  },
  {
   "cell_type": "markdown",
   "metadata": {},
   "source": [
    "- Split your data in to train and testing (20%)\n",
    "- Columns\n",
    "    - ```Input: Reviews```\n",
    "    - ```Target: Sentiment_Manual```\n",
    "- Clean the text column and create dtm for training data\n",
    "- Build random forest(300), multi nominal naive bayes & Ada boost (300)\n",
    "- Report the accuracy score for all above models using test data\n",
    "\n",
    "- Predict sentiment using vader package as well using the test data\n",
    "- Report accuracy\n",
    "- Compare sentiment analysis using text classification and VADER method\n",
    "- Report the best technique"
   ]
  },
  {
   "cell_type": "markdown",
   "metadata": {},
   "source": [
    "## Sentiment Trending Analysis"
   ]
  },
  {
   "cell_type": "code",
   "execution_count": 75,
   "metadata": {},
   "outputs": [],
   "source": [
    "def get_sentiment(review, sentiment_analyser):\n",
    "    compound = sentiment_analyser.polarity_scores(review)['compound']\n",
    "    if compound > 0.2:\n",
    "        return 'Positive'\n",
    "    elif compound < -0.2:\n",
    "        return 'Negative'\n",
    "    else:\n",
    "        return 'Neutral'\n",
    "sentiment_analyser = SentimentIntensityAnalyzer()\n",
    "hotstar['sentiment_vader'] = hotstar['Reviews'].apply(\n",
    "    lambda v: get_sentiment(v, sentiment_analyser))"
   ]
  },
  {
   "cell_type": "code",
   "execution_count": 82,
   "metadata": {},
   "outputs": [],
   "source": [
    "import matplotlib.pyplot as plt\n",
    "summary = hotstar.groupby(['Created_Date',\n",
    "                           'sentiment_vader']).size().reset_index()\n",
    "summary = summary.rename(columns={0: 'count'})"
   ]
  },
  {
   "cell_type": "code",
   "execution_count": 94,
   "metadata": {},
   "outputs": [
    {
     "data": {
      "text/plain": [
       "Text(0.5,1,'Trending Analysis on user sentiments')"
      ]
     },
     "execution_count": 94,
     "metadata": {},
     "output_type": "execute_result"
    },
    {
     "data": {
      "image/png": "[encoded data removed]",
      "text/plain": [
       "<Figure size 1008x360 with 1 Axes>"
      ]
     },
     "metadata": {},
     "output_type": "display_data"
    }
   ],
   "source": [
    "pos_counts = summary[summary['sentiment_vader'] == 'Positive']\n",
    "neg_counts = summary[summary['sentiment_vader'] == 'Negative']\n",
    "neu_counts = summary[summary['sentiment_vader'] == 'Neutral']\n",
    "plt.figure(figsize=(14,5))\n",
    "plt.plot(pos_counts['Created_Date'], pos_counts['count'], color='green')\n",
    "plt.plot(neg_counts['Created_Date'], neg_counts['count'], color='red')\n",
    "plt.plot(neu_counts['Created_Date'], neu_counts['count'], color='gray')\n",
    "plt.legend(['Positive Reviews', 'Negative Reviews', 'Neutral Reviews'])\n",
    "plt.xlabel('Date')\n",
    "plt.ylabel('Count')\n",
    "plt.title('Trending Analysis on user sentiments')"
   ]
  },
  {
   "cell_type": "code",
   "execution_count": 95,
   "metadata": {},
   "outputs": [
    {
     "data": {
      "text/plain": [
       "'2.2.2'"
      ]
     },
     "execution_count": 95,
     "metadata": {},
     "output_type": "execute_result"
    }
   ],
   "source": [
    "import matplotlib\n",
    "matplotlib.__version__"
   ]
  }
 ],
 "metadata": {
  "kernelspec": {
   "display_name": "Python 3",
   "language": "python",
   "name": "python3"
  },
  "language_info": {
   "codemirror_mode": {
    "name": "ipython",
    "version": 3
   },
   "file_extension": ".py",
   "mimetype": "text/x-python",
   "name": "python",
   "nbconvert_exporter": "python",
   "pygments_lexer": "ipython3",
   "version": "3.6.5"
  }
 },
 "nbformat": 4,
 "nbformat_minor": 2
}
